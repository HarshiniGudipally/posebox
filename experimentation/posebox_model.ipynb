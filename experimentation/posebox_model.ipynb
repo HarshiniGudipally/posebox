{
 "cells": [
  {
   "cell_type": "code",
   "execution_count": 1,
   "metadata": {},
   "outputs": [],
   "source": [
    "import os\n",
    "import cv2\n",
    "import csv\n",
    "\n",
    "import numpy as np\n",
    "from tensorflow import keras\n",
    "from tensorflow.keras import layers\n",
    "\n",
    "import matplotlib.pyplot as plt\n",
    "%matplotlib inline"
   ]
  },
  {
   "cell_type": "code",
   "execution_count": 23,
   "metadata": {},
   "outputs": [],
   "source": [
    "num_output = 8\n",
    "input_shape = (512, 512, 3)"
   ]
  },
  {
   "cell_type": "code",
   "execution_count": 24,
   "metadata": {},
   "outputs": [],
   "source": [
    "batch_size = 10"
   ]
  },
  {
   "cell_type": "code",
   "execution_count": 25,
   "metadata": {},
   "outputs": [],
   "source": [
    "IMAGES_FOLDER = '/home/sanjeev309/Projects/posebox/resized_frames'\n",
    "ANNOTATION_FILE = '/home/sanjeev309/Projects/posebox/annotation_formatted.csv'\n",
    "OUTPUT = '/home/sanjeev309/Projects/posebox/output'"
   ]
  },
  {
   "cell_type": "markdown",
   "metadata": {},
   "source": [
    "### Initialise empty numpy arrays"
   ]
  },
  {
   "cell_type": "code",
   "execution_count": 26,
   "metadata": {},
   "outputs": [],
   "source": [
    "data = np.empty((0,512,512,3), dtype=np.int8)\n",
    "target = np.empty((0,8), dtype=np.float)"
   ]
  },
  {
   "cell_type": "code",
   "execution_count": 27,
   "metadata": {},
   "outputs": [
    {
     "data": {
      "text/plain": [
       "(0, 512, 512, 3)"
      ]
     },
     "execution_count": 27,
     "metadata": {},
     "output_type": "execute_result"
    }
   ],
   "source": [
    "data.shape"
   ]
  },
  {
   "cell_type": "code",
   "execution_count": 28,
   "metadata": {},
   "outputs": [
    {
     "data": {
      "text/plain": [
       "(0, 8)"
      ]
     },
     "execution_count": 28,
     "metadata": {},
     "output_type": "execute_result"
    }
   ],
   "source": [
    "target.shape"
   ]
  },
  {
   "cell_type": "markdown",
   "metadata": {},
   "source": [
    "### Read annotation file, fetch image, normalise image and array, compose data and target arrays"
   ]
  },
  {
   "cell_type": "code",
   "execution_count": 29,
   "metadata": {
    "scrolled": true
   },
   "outputs": [
    {
     "name": "stdout",
     "output_type": "stream",
     "text": [
      "['file_name', 'coordinates', 'width', 'height']\n",
      "['image_0.jpg', '[233, 250, 402, 193, 281, 133, 103, 174]', '512', '512']\n",
      "['image_1.jpg', '[231, 251, 401, 193, 279, 132, 103, 175]', '512', '512']\n",
      "['image_2.jpg', '[235, 250, 401, 192, 282, 133, 104, 175]', '512', '512']\n",
      "['image_3.jpg', '[229, 250, 403, 193, 281, 132, 106, 173]', '512', '512']\n",
      "['image_4.jpg', '[234, 248, 401, 190, 282, 131, 103, 177]', '512', '512']\n",
      "['image_5.jpg', '[233, 250, 403, 192, 283, 133, 105, 173]', '512', '512']\n",
      "['image_6.jpg', '[231, 248, 401, 191, 281, 131, 106, 173]', '512', '512']\n",
      "['image_7.jpg', '[230, 246, 404, 187, 280, 125, 100, 169]', '512', '512']\n",
      "['image_8.jpg', '[228, 242, 403, 181, 279, 121, 94, 166]', '512', '512']\n",
      "['image_9.jpg', '[224, 244, 406, 177, 278, 117, 90, 167]', '512', '512']\n",
      "['image_10.jpg', '[217, 252, 404, 181, 277, 122, 91, 177]', '512', '512']\n",
      "['image_11.jpg', '[203, 244, 407, 160, 272, 96, 72, 157]', '512', '512']\n",
      "['image_12.jpg', '[179, 236, 410, 133, 252, 61, 32, 145]', '512', '512']\n",
      "['image_25.jpg', '[265, 429, 481, 346, 326, 236, 121, 335]', '512', '512']\n",
      "['image_26.jpg', '[230, 428, 437, 343, 277, 235, 70, 337]', '512', '512']\n",
      "['image_27.jpg', '[198, 439, 410, 345, 249, 238, 28, 346]', '512', '512']\n",
      "['image_28.jpg', '[193, 447, 408, 351, 247, 246, 24, 356]', '512', '512']\n",
      "['image_29.jpg', '[225, 447, 440, 348, 285, 245, 63, 354]', '512', '512']\n",
      "['image_30.jpg', '[233, 443, 431, 341, 284, 244, 70, 353]', '512', '512']\n",
      "['image_31.jpg', '[226, 443, 415, 338, 275, 244, 72, 355]', '512', '512']\n",
      "['image_32.jpg', '[234, 461, 405, 348, 272, 260, 78, 369]', '512', '512']\n",
      "['image_38.jpg', '[371, 491, 481, 356, 334, 279, 194, 403]', '512', '512']\n",
      "['image_39.jpg', '[362, 481, 463, 356, 321, 278, 180, 395]', '512', '512']\n",
      "['image_40.jpg', '[394, 465, 485, 345, 342, 268, 218, 379]', '512', '512']\n",
      "['image_41.jpg', '[394, 467, 484, 344, 348, 270, 214, 378]', '512', '512']\n",
      "['image_42.jpg', '[377, 484, 467, 358, 324, 284, 190, 394]', '512', '512']\n",
      "['image_43.jpg', '[387, 486, 474, 365, 323, 294, 202, 398]', '512', '512']\n",
      "['image_44.jpg', '[376, 447, 483, 333, 327, 263, 188, 357]', '512', '512']\n",
      "['image_46.jpg', '[266, 350, 389, 263, 246, 210, 102, 280]', '512', '512']\n",
      "['image_47.jpg', '[268, 325, 382, 257, 258, 217, 133, 273]', '512', '512']\n",
      "['image_48.jpg', '[284, 326, 393, 268, 282, 233, 168, 279]', '512', '512']\n",
      "['image_50.jpg', '[193, 308, 311, 243, 206, 214, 84, 270]', '512', '512']\n",
      "['image_55.jpg', '[297, 282, 431, 282, 418, 224, 287, 224]', '512', '512']\n",
      "['image_60.jpg', '[77, 223, 237, 237, 257, 176, 111, 164]', '512', '512']\n",
      "['image_61.jpg', '[83, 219, 241, 235, 266, 172, 114, 157]', '512', '512']\n",
      "['image_62.jpg', '[92, 218, 255, 235, 279, 171, 125, 155]', '512', '512']\n",
      "['image_64.jpg', '[141, 228, 303, 243, 326, 178, 169, 162]', '512', '512']\n",
      "['image_65.jpg', '[198, 288, 433, 284, 389, 206, 187, 207]', '512', '512']\n",
      "['image_66.jpg', '[198, 283, 431, 284, 389, 207, 188, 209]', '512', '512']\n",
      "['image_67.jpg', '[200, 287, 434, 284, 390, 206, 187, 207]', '512', '512']\n",
      "['image_68.jpg', '[199, 285, 432, 282, 391, 205, 185, 203]', '512', '512']\n",
      "['image_69.jpg', '[195, 283, 431, 280, 387, 201, 184, 202]', '512', '512']\n",
      "['image_70.jpg', '[194, 281, 433, 279, 388, 200, 183, 202]', '512', '512']\n",
      "['image_72.jpg', '[231, 247, 487, 245, 456, 153, 231, 159]', '512', '512']\n",
      "['image_73.jpg', '[238, 267, 459, 277, 463, 183, 254, 182]', '512', '512']\n",
      "['image_74.jpg', '[200, 253, 379, 278, 411, 190, 235, 179]', '512', '512']\n",
      "['image_86.jpg', '[182, 252, 338, 304, 434, 230, 275, 171]', '512', '512']\n",
      "['image_87.jpg', '[155, 248, 344, 305, 451, 214, 260, 152]', '512', '512']\n",
      "['image_99.jpg', '[198, 194, 318, 255, 326, 212, 219, 154]', '512', '512']\n",
      "['image_100.jpg', '[202, 206, 321, 265, 331, 220, 222, 163]', '512', '512']\n",
      "['image_106.jpg', '[89, 212, 343, 231, 357, 137, 128, 123]', '512', '512']\n",
      "['image_108.jpg', '[9, 288, 257, 293, 271, 193, 47, 188]', '512', '512']\n",
      "['image_113.jpg', '[54, 293, 281, 300, 303, 167, 82, 182]', '512', '512']\n",
      "['image_114.jpg', '[74, 288, 300, 295, 321, 162, 98, 176]', '512', '512']\n",
      "['image_115.jpg', '[77, 296, 298, 302, 318, 170, 98, 183]', '512', '512']\n",
      "['image_116.jpg', '[56, 300, 275, 307, 293, 171, 72, 187]', '512', '512']\n",
      "['image_117.jpg', '[33, 298, 251, 308, 269, 167, 50, 185]', '512', '512']\n",
      "['image_118.jpg', '[36, 301, 254, 310, 270, 166, 51, 187]', '512', '512']\n",
      "['image_119.jpg', '[28, 296, 256, 307, 273, 157, 41, 177]', '512', '512']\n",
      "['image_120.jpg', '[27, 291, 263, 299, 280, 144, 42, 166]', '512', '512']\n",
      "['image_121.jpg', '[34, 284, 289, 294, 311, 131, 53, 153]', '512', '512']\n",
      "['image_124.jpg', '[51, 274, 356, 286, 380, 135, 91, 140]', '512', '512']\n",
      "['image_125.jpg', '[91, 248, 432, 266, 454, 115, 139, 115]', '512', '512']\n",
      "['image_126.jpg', '[106, 241, 456, 262, 478, 119, 158, 109]', '512', '512']\n",
      "['image_127.jpg', '[109, 250, 456, 279, 470, 139, 163, 123]', '512', '512']\n",
      "['image_128.jpg', '[43, 321, 476, 312, 477, 110, 39, 113]', '512', '512']\n",
      "['image_129.jpg', '[48, 311, 483, 305, 489, 97, 46, 101]', '512', '512']\n",
      "['image_130.jpg', '[49, 309, 491, 300, 497, 91, 48, 97]', '512', '512']\n",
      "['image_131.jpg', '[39, 297, 482, 286, 488, 80, 35, 85]', '512', '512']\n",
      "['image_132.jpg', '[33, 296, 483, 282, 488, 74, 30, 79]', '512', '512']\n",
      "['image_133.jpg', '[48, 301, 487, 292, 492, 82, 50, 92]', '512', '512']\n",
      "['image_134.jpg', '[66, 301, 464, 294, 470, 105, 66, 113]', '512', '512']\n",
      "['image_135.jpg', '[55, 307, 419, 302, 427, 133, 62, 136]', '512', '512']\n",
      "['image_160.jpg', '[185, 273, 354, 273, 363, 193, 190, 192]', '512', '512']\n",
      "['image_164.jpg', '[180, 295, 355, 305, 361, 232, 195, 213]', '512', '512']\n",
      "['image_176.jpg', '[131, 251, 365, 257, 347, 201, 152, 194]', '512', '512']\n",
      "['image_177.jpg', '[133, 249, 364, 251, 350, 200, 155, 192]', '512', '512']\n",
      "['image_193.jpg', '[111, 182, 162, 283, 332, 254, 265, 156]', '512', '512']\n",
      "['image_194.jpg', '[94, 179, 148, 283, 321, 252, 252, 151]', '512', '512']\n",
      "['image_195.jpg', '[80, 176, 136, 285, 321, 254, 246, 147]', '512', '512']\n",
      "['image_196.jpg', '[72, 176, 128, 287, 316, 253, 241, 144]', '512', '512']\n",
      "['image_197.jpg', '[67, 172, 126, 288, 322, 254, 241, 140]', '512', '512']\n",
      "['image_198.jpg', '[60, 168, 122, 289, 317, 253, 238, 134]', '512', '512']\n",
      "['image_199.jpg', '[59, 170, 118, 290, 320, 255, 237, 132]', '512', '512']\n",
      "['image_200.jpg', '[55, 200, 110, 315, 300, 280, 227, 167]', '512', '512']\n",
      "['image_201.jpg', '[50, 218, 99, 334, 288, 304, 220, 197]', '512', '512']\n",
      "['image_203.jpg', '[107, 201, 156, 315, 348, 288, 277, 183]', '512', '512']\n",
      "['image_204.jpg', '[113, 210, 169, 328, 363, 303, 287, 194]', '512', '512']\n",
      "['image_207.jpg', '[159, 117, 254, 254, 481, 226, 361, 102]', '512', '512']\n",
      "['image_208.jpg', '[180, 160, 258, 276, 449, 244, 348, 139]', '512', '512']\n",
      "['image_211.jpg', '[166, 223, 203, 290, 315, 274, 263, 209]', '512', '512']\n",
      "['image_214.jpg', '[259, 239, 282, 304, 388, 294, 358, 226]', '512', '512']\n",
      "['image_216.jpg', '[226, 227, 247, 306, 369, 297, 341, 218]', '512', '512']\n",
      "['image_222.jpg', '[103, 280, 167, 416, 377, 383, 321, 249]', '512', '512']\n",
      "['image_224.jpg', '[70, 236, 150, 394, 388, 357, 325, 198]', '512', '512']\n",
      "['image_229.jpg', '[98, 206, 166, 400, 459, 360, 371, 178]', '512', '512']\n",
      "['image_230.jpg', '[71, 205, 137, 398, 433, 355, 342, 176]', '512', '512']\n",
      "['image_232.jpg', '[107, 181, 164, 363, 440, 332, 356, 165]', '512', '512']\n",
      "['image_234.jpg', '[126, 202, 179, 358, 431, 328, 343, 186]', '512', '512']\n",
      "['image_238.jpg', '[112, 124, 176, 269, 432, 228, 334, 81]', '512', '512']\n",
      "['image_240.jpg', '[75, 132, 132, 292, 388, 264, 309, 82]', '512', '512']\n",
      "['image_244.jpg', '[116, 145, 140, 310, 381, 295, 330, 91]', '512', '512']\n",
      "['image_247.jpg', '[7, 222, 26, 383, 203, 386, 162, 174]', '512', '512']\n",
      "['image_248.jpg', '[27, 226, 40, 387, 214, 394, 175, 181]', '512', '512']\n",
      "['image_249.jpg', '[49, 229, 63, 387, 227, 391, 191, 187]', '512', '512']\n",
      "['image_250.jpg', '[42, 226, 53, 382, 213, 384, 181, 186]', '512', '512']\n",
      "['image_251.jpg', '[43, 209, 52, 362, 215, 362, 182, 163]', '512', '512']\n",
      "['image_252.jpg', '[38, 197, 47, 346, 204, 343, 175, 151]', '512', '512']\n"
     ]
    }
   ],
   "source": [
    "with open(ANNOTATION_FILE,'r') as csv_file:\n",
    "    \n",
    "    reader = csv.reader(csv_file, delimiter=',')\n",
    "    line_count = 0\n",
    "    \n",
    "    for row in reader:\n",
    "        \n",
    "        print(row)\n",
    "        \n",
    "        if line_count == 0:\n",
    "            line_count += 1\n",
    "        else:\n",
    "            image_path = os.path.join(IMAGES_FOLDER, row[0])\n",
    "            image = cv2.imread(image_path)/ 255\n",
    "            image = np.expand_dims(image, axis=0)\n",
    "            \n",
    "            points = row[1]\n",
    "            dimen = (float)(row[2])\n",
    "            \n",
    "            p = points.strip('][').split(', ')\n",
    "            \n",
    "            \n",
    "            p = np.array(p, dtype=np.int)\n",
    "            p = np.divide(p, dimen)\n",
    "            p = np.expand_dims(p, axis=0)\n",
    "            \n",
    "            if image is not None:\n",
    "                data = np.vstack((data, image))\n",
    "                target = np.vstack((target, p))\n",
    "            \n",
    "            line_count += 1"
   ]
  },
  {
   "cell_type": "markdown",
   "metadata": {},
   "source": [
    "### Shuffle data and target synchronously"
   ]
  },
  {
   "cell_type": "code",
   "execution_count": 32,
   "metadata": {},
   "outputs": [],
   "source": [
    "num_samples = data.shape[0]"
   ]
  },
  {
   "cell_type": "code",
   "execution_count": 33,
   "metadata": {},
   "outputs": [],
   "source": [
    "arr = np.arange(num_samples)"
   ]
  },
  {
   "cell_type": "code",
   "execution_count": 34,
   "metadata": {
    "scrolled": true
   },
   "outputs": [],
   "source": [
    "np.random.shuffle(arr)"
   ]
  },
  {
   "cell_type": "code",
   "execution_count": 35,
   "metadata": {},
   "outputs": [
    {
     "data": {
      "text/plain": [
       "array([  4,  50,  28,  98,  27,  82,   1, 101, 100, 106,  33,  43,  94,\n",
       "        97,  13,  47,  75, 103,  88,  74,  64,  25,   0,  57, 105,  24,\n",
       "        30,  72,  51,  38,  59,  96,  67,  15,  77,  79,  53,  92,  48,\n",
       "        69,  10,  63,   3,  61,  29, 104,  18,  35,  32,  22,   8,  21,\n",
       "        62,  87,  84,  11,  65,  41,  60,  46,  95,  78,  54,  44,  93,\n",
       "        81,  14,  73,   5,  99,  80,  70,   2, 102,  19,   6,  49,  56,\n",
       "        20,  71,  36,  17,  39,  58,  12,  83,  34,  76,  45,  86,   7,\n",
       "       107,  52,   9,  42,  91,  37,  66,  16,  55,  68,  31,  85,  89,\n",
       "        23,  26,  90,  40])"
      ]
     },
     "execution_count": 35,
     "metadata": {},
     "output_type": "execute_result"
    }
   ],
   "source": [
    "arr"
   ]
  },
  {
   "cell_type": "code",
   "execution_count": 36,
   "metadata": {},
   "outputs": [],
   "source": [
    "data = data[arr]\n",
    "target = target[arr]"
   ]
  },
  {
   "cell_type": "code",
   "execution_count": 37,
   "metadata": {},
   "outputs": [
    {
     "name": "stdout",
     "output_type": "stream",
     "text": [
      "(108, 512, 512, 3)\n",
      "(108, 8)\n"
     ]
    }
   ],
   "source": [
    "print(data.shape)\n",
    "print(target.shape)"
   ]
  },
  {
   "cell_type": "code",
   "execution_count": 38,
   "metadata": {},
   "outputs": [],
   "source": [
    "np.save(os.path.join(OUTPUT,'data.npy'), data)\n",
    "np.save(os.path.join(OUTPUT,'target.npy'), target)"
   ]
  },
  {
   "cell_type": "markdown",
   "metadata": {},
   "source": [
    "### Load data and target"
   ]
  },
  {
   "cell_type": "code",
   "execution_count": 39,
   "metadata": {},
   "outputs": [],
   "source": [
    "data = np.load(os.path.join(OUTPUT,'data.npy'))\n",
    "target = np.load(os.path.join(OUTPUT,'target.npy'))"
   ]
  },
  {
   "cell_type": "markdown",
   "metadata": {},
   "source": [
    "### Train / Test split"
   ]
  },
  {
   "cell_type": "code",
   "execution_count": 40,
   "metadata": {},
   "outputs": [],
   "source": [
    "TRAIN_RATIO = 0.8"
   ]
  },
  {
   "cell_type": "code",
   "execution_count": 41,
   "metadata": {},
   "outputs": [],
   "source": [
    "X_train = data[0: int(num_samples * TRAIN_RATIO) - 1]\n",
    "y_train = target[0: int(num_samples * TRAIN_RATIO) - 1]\n",
    "\n",
    "X_test = data[int(num_samples * TRAIN_RATIO): num_samples - 1]\n",
    "y_test = target[int(num_samples * TRAIN_RATIO): num_samples - 1]"
   ]
  },
  {
   "cell_type": "code",
   "execution_count": 42,
   "metadata": {},
   "outputs": [
    {
     "name": "stdout",
     "output_type": "stream",
     "text": [
      "(85, 512, 512, 3)\n"
     ]
    }
   ],
   "source": [
    "print(X_train.shape)"
   ]
  },
  {
   "cell_type": "code",
   "execution_count": 43,
   "metadata": {},
   "outputs": [
    {
     "name": "stdout",
     "output_type": "stream",
     "text": [
      "(85, 8)\n"
     ]
    }
   ],
   "source": [
    "print(y_train.shape)"
   ]
  },
  {
   "cell_type": "code",
   "execution_count": 44,
   "metadata": {},
   "outputs": [
    {
     "name": "stdout",
     "output_type": "stream",
     "text": [
      "(21, 512, 512, 3)\n"
     ]
    }
   ],
   "source": [
    "print(X_test.shape)"
   ]
  },
  {
   "cell_type": "code",
   "execution_count": 45,
   "metadata": {},
   "outputs": [
    {
     "name": "stdout",
     "output_type": "stream",
     "text": [
      "(21, 8)\n"
     ]
    }
   ],
   "source": [
    "print(y_test.shape)"
   ]
  },
  {
   "cell_type": "code",
   "execution_count": 56,
   "metadata": {},
   "outputs": [],
   "source": [
    "def build_model():\n",
    "    model = keras.Sequential([\n",
    "    \n",
    "        layers.Conv2D(32, kernel_size=(3, 3), activation=\"relu\",  input_shape=input_shape),\n",
    "        layers.MaxPooling2D(pool_size=(2, 2)),\n",
    "        layers.BatchNormalization(),\n",
    "        layers.Conv2D(64, kernel_size=(3, 3), activation=\"relu\"),\n",
    "        layers.MaxPooling2D(pool_size=(2, 2)),\n",
    "        layers.BatchNormalization(),\n",
    "        layers.Conv2D(128, kernel_size=(3, 3), activation=\"relu\"),\n",
    "        layers.MaxPooling2D(pool_size=(2, 2)),\n",
    "        layers.Activation(\"relu\"),\n",
    "        layers.SeparableConv2D(128, 3, padding=\"same\"),\n",
    "        layers.BatchNormalization(),\n",
    "        layers.Activation(\"relu\"),\n",
    "        layers.SeparableConv2D(128, 3, padding=\"same\"),\n",
    "        layers.BatchNormalization(),\n",
    "        layers.MaxPooling2D(3, strides=2, padding=\"same\"),\n",
    "        layers.BatchNormalization(),\n",
    "        layers.Flatten(),\n",
    "        layers.Dense(64),\n",
    "        layers.Dense(16),\n",
    "        layers.Dense(num_output, activation=\"sigmoid\"),\n",
    "      \n",
    "    ])\n",
    "    \n",
    "    return model"
   ]
  },
  {
   "cell_type": "code",
   "execution_count": 57,
   "metadata": {},
   "outputs": [],
   "source": [
    "model = build_model()"
   ]
  },
  {
   "cell_type": "code",
   "execution_count": 58,
   "metadata": {},
   "outputs": [],
   "source": [
    "optimizer = keras.optimizers.RMSprop(0.01)\n",
    "\n",
    "model.compile(loss=keras.losses.mean_absolute_error,\n",
    "                optimizer=optimizer,\n",
    "              metrics=['accuracy'])"
   ]
  },
  {
   "cell_type": "code",
   "execution_count": 59,
   "metadata": {},
   "outputs": [
    {
     "name": "stdout",
     "output_type": "stream",
     "text": [
      "Model: \"sequential_3\"\n",
      "_________________________________________________________________\n",
      "Layer (type)                 Output Shape              Param #   \n",
      "=================================================================\n",
      "conv2d_12 (Conv2D)           (None, 510, 510, 32)      896       \n",
      "_________________________________________________________________\n",
      "max_pooling2d_12 (MaxPooling (None, 255, 255, 32)      0         \n",
      "_________________________________________________________________\n",
      "batch_normalization_2 (Batch (None, 255, 255, 32)      128       \n",
      "_________________________________________________________________\n",
      "conv2d_13 (Conv2D)           (None, 253, 253, 64)      18496     \n",
      "_________________________________________________________________\n",
      "max_pooling2d_13 (MaxPooling (None, 126, 126, 64)      0         \n",
      "_________________________________________________________________\n",
      "batch_normalization_3 (Batch (None, 126, 126, 64)      256       \n",
      "_________________________________________________________________\n",
      "conv2d_14 (Conv2D)           (None, 124, 124, 128)     73856     \n",
      "_________________________________________________________________\n",
      "max_pooling2d_14 (MaxPooling (None, 62, 62, 128)       0         \n",
      "_________________________________________________________________\n",
      "activation_1 (Activation)    (None, 62, 62, 128)       0         \n",
      "_________________________________________________________________\n",
      "separable_conv2d (SeparableC (None, 62, 62, 128)       17664     \n",
      "_________________________________________________________________\n",
      "batch_normalization_4 (Batch (None, 62, 62, 128)       512       \n",
      "_________________________________________________________________\n",
      "activation_2 (Activation)    (None, 62, 62, 128)       0         \n",
      "_________________________________________________________________\n",
      "separable_conv2d_1 (Separabl (None, 62, 62, 128)       17664     \n",
      "_________________________________________________________________\n",
      "batch_normalization_5 (Batch (None, 62, 62, 128)       512       \n",
      "_________________________________________________________________\n",
      "max_pooling2d_15 (MaxPooling (None, 31, 31, 128)       0         \n",
      "_________________________________________________________________\n",
      "batch_normalization_6 (Batch (None, 31, 31, 128)       512       \n",
      "_________________________________________________________________\n",
      "flatten_3 (Flatten)          (None, 123008)            0         \n",
      "_________________________________________________________________\n",
      "dense_3 (Dense)              (None, 64)                7872576   \n",
      "_________________________________________________________________\n",
      "dense_4 (Dense)              (None, 16)                1040      \n",
      "_________________________________________________________________\n",
      "dense_5 (Dense)              (None, 8)                 136       \n",
      "=================================================================\n",
      "Total params: 8,004,248\n",
      "Trainable params: 8,003,288\n",
      "Non-trainable params: 960\n",
      "_________________________________________________________________\n"
     ]
    }
   ],
   "source": [
    "model.summary()"
   ]
  },
  {
   "cell_type": "code",
   "execution_count": 60,
   "metadata": {
    "scrolled": true
   },
   "outputs": [
    {
     "name": "stdout",
     "output_type": "stream",
     "text": [
      "Epoch 1/1000\n",
      "9/9 [==============================] - 163s 18s/step - loss: 0.4578 - accuracy: 0.0698 - val_loss: 0.5267 - val_accuracy: 0.0000e+00\n",
      "Epoch 2/1000\n",
      "9/9 [==============================] - 34s 4s/step - loss: 0.4749 - accuracy: 0.0814 - val_loss: 0.5266 - val_accuracy: 0.0000e+00\n",
      "Epoch 3/1000\n",
      "9/9 [==============================] - 34s 4s/step - loss: 0.4785 - accuracy: 0.1047 - val_loss: 0.4992 - val_accuracy: 0.1364\n",
      "Epoch 4/1000\n",
      "9/9 [==============================] - 34s 4s/step - loss: 0.4875 - accuracy: 0.0930 - val_loss: 0.4992 - val_accuracy: 0.1364\n",
      "Epoch 5/1000\n",
      "9/9 [==============================] - 34s 4s/step - loss: 0.4458 - accuracy: 0.1512 - val_loss: 0.4829 - val_accuracy: 0.0909\n",
      "Epoch 6/1000\n",
      "9/9 [==============================] - 34s 4s/step - loss: 0.4578 - accuracy: 0.1860 - val_loss: 0.4625 - val_accuracy: 0.1818\n",
      "Epoch 7/1000\n",
      "9/9 [==============================] - 34s 4s/step - loss: 0.4595 - accuracy: 0.1163 - val_loss: 0.4611 - val_accuracy: 0.1818\n",
      "Epoch 8/1000\n",
      "9/9 [==============================] - 34s 4s/step - loss: 0.4595 - accuracy: 0.1163 - val_loss: 0.4842 - val_accuracy: 0.1818\n",
      "Epoch 9/1000\n",
      "9/9 [==============================] - 34s 4s/step - loss: 0.4595 - accuracy: 0.1163 - val_loss: 0.4842 - val_accuracy: 0.1818\n",
      "Epoch 10/1000\n",
      "9/9 [==============================] - 34s 4s/step - loss: 0.4586 - accuracy: 0.1163 - val_loss: 0.4881 - val_accuracy: 0.0909\n",
      "Epoch 11/1000\n",
      "9/9 [==============================] - 34s 4s/step - loss: 0.4586 - accuracy: 0.1163 - val_loss: 0.4893 - val_accuracy: 0.0909\n",
      "Epoch 12/1000\n",
      "9/9 [==============================] - 34s 4s/step - loss: 0.4593 - accuracy: 0.1163 - val_loss: 0.4909 - val_accuracy: 0.0909\n",
      "Epoch 13/1000\n",
      "9/9 [==============================] - 36s 4s/step - loss: 0.4594 - accuracy: 0.1163 - val_loss: 0.4879 - val_accuracy: 0.0909\n",
      "Epoch 14/1000\n",
      "9/9 [==============================] - 34s 4s/step - loss: 0.5377 - accuracy: 0.1047 - val_loss: 0.5728 - val_accuracy: 0.0000e+00\n",
      "Epoch 15/1000\n",
      "9/9 [==============================] - 34s 4s/step - loss: 0.5343 - accuracy: 0.0116 - val_loss: 0.5273 - val_accuracy: 0.0000e+00\n",
      "Epoch 16/1000\n",
      "9/9 [==============================] - 34s 4s/step - loss: 0.5355 - accuracy: 0.0233 - val_loss: 0.5330 - val_accuracy: 0.0000e+00\n",
      "Epoch 17/1000\n",
      "9/9 [==============================] - 35s 4s/step - loss: 0.5357 - accuracy: 0.0000e+00 - val_loss: 0.5280 - val_accuracy: 0.0000e+00\n",
      "Epoch 18/1000\n",
      "9/9 [==============================] - 34s 4s/step - loss: 0.5372 - accuracy: 0.0000e+00 - val_loss: 0.5315 - val_accuracy: 0.0000e+00\n",
      "Epoch 19/1000\n",
      "9/9 [==============================] - 34s 4s/step - loss: 0.5361 - accuracy: 0.0116 - val_loss: 0.5315 - val_accuracy: 0.0000e+00\n",
      "Epoch 20/1000\n",
      "9/9 [==============================] - 34s 4s/step - loss: 0.5369 - accuracy: 0.0000e+00 - val_loss: 0.5366 - val_accuracy: 0.0000e+00\n",
      "Epoch 21/1000\n",
      "9/9 [==============================] - 35s 4s/step - loss: 0.5367 - accuracy: 0.0000e+00 - val_loss: 0.5366 - val_accuracy: 0.0000e+00\n",
      "Epoch 22/1000\n",
      "9/9 [==============================] - 34s 4s/step - loss: 0.5352 - accuracy: 0.0000e+00 - val_loss: 0.5317 - val_accuracy: 0.0000e+00\n",
      "Epoch 23/1000\n",
      "9/9 [==============================] - 34s 4s/step - loss: 0.5366 - accuracy: 0.0000e+00 - val_loss: 0.5317 - val_accuracy: 0.0000e+00\n",
      "Epoch 24/1000\n",
      "9/9 [==============================] - 34s 4s/step - loss: 0.4993 - accuracy: 0.1395 - val_loss: 0.4614 - val_accuracy: 0.1818\n",
      "Epoch 25/1000\n",
      "9/9 [==============================] - 34s 4s/step - loss: 0.5412 - accuracy: 0.0814 - val_loss: 0.4614 - val_accuracy: 0.1818\n",
      "Epoch 26/1000\n",
      "9/9 [==============================] - 34s 4s/step - loss: 0.5426 - accuracy: 0.0698 - val_loss: 0.4614 - val_accuracy: 0.1818\n",
      "Epoch 27/1000\n",
      "9/9 [==============================] - 34s 4s/step - loss: 0.5397 - accuracy: 0.0698 - val_loss: 0.4634 - val_accuracy: 0.1818\n",
      "Epoch 28/1000\n",
      "9/9 [==============================] - 34s 4s/step - loss: 0.5405 - accuracy: 0.0814 - val_loss: 0.4634 - val_accuracy: 0.1818\n",
      "Epoch 29/1000\n",
      "9/9 [==============================] - 34s 4s/step - loss: 0.5407 - accuracy: 0.0698 - val_loss: 0.4634 - val_accuracy: 0.1818\n",
      "Epoch 30/1000\n",
      "9/9 [==============================] - 34s 4s/step - loss: 0.5338 - accuracy: 0.0349 - val_loss: 0.5050 - val_accuracy: 0.0000e+00\n",
      "Epoch 31/1000\n",
      "9/9 [==============================] - 34s 4s/step - loss: 0.5387 - accuracy: 0.0000e+00 - val_loss: 0.5050 - val_accuracy: 0.0000e+00\n",
      "Epoch 32/1000\n",
      "9/9 [==============================] - 34s 4s/step - loss: 0.5327 - accuracy: 0.0000e+00 - val_loss: 0.5050 - val_accuracy: 0.0000e+00\n",
      "Epoch 33/1000\n",
      "9/9 [==============================] - 34s 4s/step - loss: 0.5387 - accuracy: 0.0000e+00 - val_loss: 0.5050 - val_accuracy: 0.0000e+00\n",
      "Epoch 34/1000\n",
      "9/9 [==============================] - 34s 4s/step - loss: 0.5164 - accuracy: 0.0349 - val_loss: 0.5308 - val_accuracy: 0.0000e+00\n",
      "Epoch 35/1000\n",
      "9/9 [==============================] - 34s 4s/step - loss: 0.4718 - accuracy: 0.1047 - val_loss: 0.4903 - val_accuracy: 0.0455\n",
      "Epoch 36/1000\n",
      "9/9 [==============================] - 34s 4s/step - loss: 0.4712 - accuracy: 0.1047 - val_loss: 0.4739 - val_accuracy: 0.0909\n",
      "Epoch 37/1000\n",
      "9/9 [==============================] - 34s 4s/step - loss: 0.4676 - accuracy: 0.1047 - val_loss: 0.4716 - val_accuracy: 0.0909\n",
      "Epoch 38/1000\n",
      "9/9 [==============================] - 34s 4s/step - loss: 0.4718 - accuracy: 0.1047 - val_loss: 0.4748 - val_accuracy: 0.0909\n",
      "Epoch 39/1000\n",
      "9/9 [==============================] - 34s 4s/step - loss: 0.4849 - accuracy: 0.1047 - val_loss: 0.4809 - val_accuracy: 0.1364\n",
      "Epoch 40/1000\n",
      "9/9 [==============================] - 34s 4s/step - loss: 0.4933 - accuracy: 0.0814 - val_loss: 0.4644 - val_accuracy: 0.1818\n",
      "Epoch 41/1000\n",
      "9/9 [==============================] - 34s 4s/step - loss: 0.4967 - accuracy: 0.0814 - val_loss: 0.4532 - val_accuracy: 0.1818\n",
      "Epoch 42/1000\n",
      "9/9 [==============================] - 34s 4s/step - loss: 0.5040 - accuracy: 0.0349 - val_loss: 0.4950 - val_accuracy: 0.1364\n",
      "Epoch 43/1000\n",
      "9/9 [==============================] - 34s 4s/step - loss: 0.5027 - accuracy: 0.0000e+00 - val_loss: 0.4950 - val_accuracy: 0.1364\n",
      "Epoch 44/1000\n",
      "9/9 [==============================] - 34s 4s/step - loss: 0.5080 - accuracy: 0.0000e+00 - val_loss: 0.4950 - val_accuracy: 0.1364\n",
      "Epoch 45/1000\n",
      "9/9 [==============================] - 34s 4s/step - loss: 0.5045 - accuracy: 0.0116 - val_loss: 0.4950 - val_accuracy: 0.1364\n",
      "Epoch 46/1000\n",
      "9/9 [==============================] - 34s 4s/step - loss: 0.4822 - accuracy: 0.0930 - val_loss: 0.4843 - val_accuracy: 0.0000e+00\n",
      "Epoch 47/1000\n",
      "9/9 [==============================] - 34s 4s/step - loss: 0.4742 - accuracy: 0.1047 - val_loss: 0.4878 - val_accuracy: 0.0000e+00\n",
      "Epoch 48/1000\n",
      "9/9 [==============================] - 34s 4s/step - loss: 0.4742 - accuracy: 0.1047 - val_loss: 0.4900 - val_accuracy: 0.0000e+00\n",
      "Epoch 49/1000\n",
      "9/9 [==============================] - 34s 4s/step - loss: 0.4955 - accuracy: 0.0814 - val_loss: 0.4813 - val_accuracy: 0.0000e+00\n",
      "Epoch 50/1000\n",
      "9/9 [==============================] - 34s 4s/step - loss: 0.5117 - accuracy: 0.0581 - val_loss: 0.4819 - val_accuracy: 0.0000e+00\n",
      "Epoch 51/1000\n",
      "9/9 [==============================] - 34s 4s/step - loss: 0.5111 - accuracy: 0.0581 - val_loss: 0.4803 - val_accuracy: 0.0000e+00\n",
      "Epoch 52/1000\n",
      "9/9 [==============================] - 35s 4s/step - loss: 0.5172 - accuracy: 0.0581 - val_loss: 0.4871 - val_accuracy: 0.0000e+00\n",
      "Epoch 53/1000\n",
      "9/9 [==============================] - 34s 4s/step - loss: 0.5212 - accuracy: 0.0465 - val_loss: 0.4876 - val_accuracy: 0.0000e+00\n",
      "Epoch 54/1000\n",
      "9/9 [==============================] - 34s 4s/step - loss: 0.5243 - accuracy: 0.0465 - val_loss: 0.4886 - val_accuracy: 0.0000e+00\n",
      "Epoch 55/1000\n",
      "9/9 [==============================] - 34s 4s/step - loss: 0.5231 - accuracy: 0.0465 - val_loss: 0.4946 - val_accuracy: 0.0000e+00\n",
      "Epoch 56/1000\n",
      "9/9 [==============================] - 34s 4s/step - loss: 0.5250 - accuracy: 0.0465 - val_loss: 0.4972 - val_accuracy: 0.0000e+00\n",
      "Epoch 57/1000\n",
      "9/9 [==============================] - 34s 4s/step - loss: 0.5213 - accuracy: 0.0465 - val_loss: 0.4987 - val_accuracy: 0.0000e+00\n",
      "Epoch 58/1000\n"
     ]
    },
    {
     "name": "stdout",
     "output_type": "stream",
     "text": [
      "9/9 [==============================] - 34s 4s/step - loss: 0.5252 - accuracy: 0.0349 - val_loss: 0.4959 - val_accuracy: 0.0000e+00\n",
      "Epoch 59/1000\n",
      "9/9 [==============================] - 34s 4s/step - loss: 0.5251 - accuracy: 0.0233 - val_loss: 0.4974 - val_accuracy: 0.0000e+00\n",
      "Epoch 60/1000\n",
      "9/9 [==============================] - 34s 4s/step - loss: 0.5268 - accuracy: 0.0233 - val_loss: 0.5135 - val_accuracy: 0.0000e+00\n",
      "Epoch 61/1000\n",
      "9/9 [==============================] - 34s 4s/step - loss: 0.5239 - accuracy: 0.0465 - val_loss: 0.5157 - val_accuracy: 0.0000e+00\n",
      "Epoch 62/1000\n",
      "9/9 [==============================] - 34s 4s/step - loss: 0.5303 - accuracy: 0.0233 - val_loss: 0.5167 - val_accuracy: 0.0000e+00\n",
      "Epoch 63/1000\n",
      "9/9 [==============================] - 34s 4s/step - loss: 0.5261 - accuracy: 0.0349 - val_loss: 0.5187 - val_accuracy: 0.0000e+00\n",
      "Epoch 64/1000\n",
      "9/9 [==============================] - 34s 4s/step - loss: 0.5275 - accuracy: 0.0349 - val_loss: 0.5249 - val_accuracy: 0.0000e+00\n",
      "Epoch 65/1000\n",
      "9/9 [==============================] - 34s 4s/step - loss: 0.5252 - accuracy: 0.0349 - val_loss: 0.5315 - val_accuracy: 0.0000e+00\n",
      "Epoch 66/1000\n",
      "9/9 [==============================] - 34s 4s/step - loss: 0.5243 - accuracy: 0.0349 - val_loss: 0.5429 - val_accuracy: 0.0000e+00\n",
      "Epoch 67/1000\n",
      "9/9 [==============================] - 34s 4s/step - loss: 0.5258 - accuracy: 0.0233 - val_loss: 0.5407 - val_accuracy: 0.0000e+00\n",
      "Epoch 68/1000\n",
      "9/9 [==============================] - 34s 4s/step - loss: 0.5262 - accuracy: 0.0349 - val_loss: 0.5382 - val_accuracy: 0.0000e+00\n",
      "Epoch 69/1000\n",
      "9/9 [==============================] - 34s 4s/step - loss: 0.5278 - accuracy: 0.0116 - val_loss: 0.5402 - val_accuracy: 0.0000e+00\n",
      "Epoch 70/1000\n",
      "9/9 [==============================] - 34s 4s/step - loss: 0.5254 - accuracy: 0.0233 - val_loss: 0.5356 - val_accuracy: 0.0000e+00\n",
      "Epoch 71/1000\n",
      "9/9 [==============================] - 34s 4s/step - loss: 0.5287 - accuracy: 0.0116 - val_loss: 0.5356 - val_accuracy: 0.0000e+00\n",
      "Epoch 72/1000\n",
      "9/9 [==============================] - 34s 4s/step - loss: 0.5232 - accuracy: 0.0349 - val_loss: 0.5324 - val_accuracy: 0.0000e+00\n",
      "Epoch 73/1000\n",
      "9/9 [==============================] - 34s 4s/step - loss: 0.5248 - accuracy: 0.0349 - val_loss: 0.5324 - val_accuracy: 0.0000e+00\n",
      "Epoch 74/1000\n",
      "9/9 [==============================] - 34s 4s/step - loss: 0.5262 - accuracy: 0.0233 - val_loss: 0.5297 - val_accuracy: 0.0000e+00\n",
      "Epoch 75/1000\n",
      "9/9 [==============================] - 34s 4s/step - loss: 0.5251 - accuracy: 0.0349 - val_loss: 0.5297 - val_accuracy: 0.0000e+00\n",
      "Epoch 76/1000\n",
      "9/9 [==============================] - 34s 4s/step - loss: 0.5253 - accuracy: 0.0233 - val_loss: 0.5396 - val_accuracy: 0.0000e+00\n",
      "Epoch 77/1000\n",
      "9/9 [==============================] - 34s 4s/step - loss: 0.5330 - accuracy: 0.0000e+00 - val_loss: 0.5270 - val_accuracy: 0.0455\n",
      "Epoch 78/1000\n",
      "9/9 [==============================] - 34s 4s/step - loss: 0.5314 - accuracy: 0.0000e+00 - val_loss: 0.5352 - val_accuracy: 0.0000e+00\n",
      "Epoch 79/1000\n",
      "9/9 [==============================] - 34s 4s/step - loss: 0.5321 - accuracy: 0.0000e+00 - val_loss: 0.5368 - val_accuracy: 0.0000e+00\n",
      "Epoch 80/1000\n",
      "9/9 [==============================] - 34s 4s/step - loss: 0.5297 - accuracy: 0.0000e+00 - val_loss: 0.5368 - val_accuracy: 0.0000e+00\n",
      "Epoch 81/1000\n",
      "9/9 [==============================] - 34s 4s/step - loss: 0.5380 - accuracy: 0.0000e+00 - val_loss: 0.5396 - val_accuracy: 0.0000e+00\n",
      "Epoch 82/1000\n",
      "9/9 [==============================] - 34s 4s/step - loss: 0.5393 - accuracy: 0.0000e+00 - val_loss: 0.5396 - val_accuracy: 0.0000e+00\n",
      "Epoch 83/1000\n",
      "9/9 [==============================] - 34s 4s/step - loss: 0.5395 - accuracy: 0.0000e+00 - val_loss: 0.5396 - val_accuracy: 0.0000e+00\n",
      "Epoch 84/1000\n",
      "9/9 [==============================] - 34s 4s/step - loss: 0.5403 - accuracy: 0.0000e+00 - val_loss: 0.5396 - val_accuracy: 0.0000e+00\n",
      "Epoch 85/1000\n",
      "9/9 [==============================] - 34s 4s/step - loss: 0.5403 - accuracy: 0.0000e+00 - val_loss: 0.5396 - val_accuracy: 0.0000e+00\n",
      "Epoch 86/1000\n",
      "9/9 [==============================] - 34s 4s/step - loss: 0.5413 - accuracy: 0.0000e+00 - val_loss: 0.5396 - val_accuracy: 0.0000e+00\n",
      "Epoch 87/1000\n",
      "9/9 [==============================] - 34s 4s/step - loss: 0.5403 - accuracy: 0.0000e+00 - val_loss: 0.5396 - val_accuracy: 0.0000e+00\n",
      "Epoch 88/1000\n",
      "9/9 [==============================] - 34s 4s/step - loss: 0.5403 - accuracy: 0.0000e+00 - val_loss: 0.5396 - val_accuracy: 0.0000e+00\n",
      "Epoch 89/1000\n",
      "9/9 [==============================] - 34s 4s/step - loss: 0.5399 - accuracy: 0.0000e+00 - val_loss: 0.5396 - val_accuracy: 0.0000e+00\n",
      "Epoch 90/1000\n",
      "9/9 [==============================] - 34s 4s/step - loss: 0.5403 - accuracy: 0.0000e+00 - val_loss: 0.5396 - val_accuracy: 0.0000e+00\n",
      "Epoch 91/1000\n",
      "9/9 [==============================] - 34s 4s/step - loss: 0.5403 - accuracy: 0.0000e+00 - val_loss: 0.5396 - val_accuracy: 0.0000e+00\n",
      "Epoch 92/1000\n",
      "9/9 [==============================] - 34s 4s/step - loss: 0.5403 - accuracy: 0.0000e+00 - val_loss: 0.5382 - val_accuracy: 0.0000e+00\n",
      "Epoch 93/1000\n",
      "9/9 [==============================] - 34s 4s/step - loss: 0.5403 - accuracy: 0.0000e+00 - val_loss: 0.5382 - val_accuracy: 0.0000e+00\n",
      "Epoch 94/1000\n",
      "9/9 [==============================] - 34s 4s/step - loss: 0.5403 - accuracy: 0.0000e+00 - val_loss: 0.5382 - val_accuracy: 0.0000e+00\n",
      "Epoch 95/1000\n",
      "9/9 [==============================] - 34s 4s/step - loss: 0.5403 - accuracy: 0.0000e+00 - val_loss: 0.5358 - val_accuracy: 0.0000e+00\n",
      "Epoch 96/1000\n",
      "9/9 [==============================] - 34s 4s/step - loss: 0.5403 - accuracy: 0.0000e+00 - val_loss: 0.5358 - val_accuracy: 0.0000e+00\n",
      "Epoch 97/1000\n",
      "9/9 [==============================] - 34s 4s/step - loss: 0.5403 - accuracy: 0.0000e+00 - val_loss: 0.5380 - val_accuracy: 0.0000e+00\n",
      "Epoch 98/1000\n",
      "9/9 [==============================] - 34s 4s/step - loss: 0.5403 - accuracy: 0.0000e+00 - val_loss: 0.5382 - val_accuracy: 0.0000e+00\n",
      "Epoch 99/1000\n",
      "9/9 [==============================] - 34s 4s/step - loss: 0.5393 - accuracy: 0.0000e+00 - val_loss: 0.5382 - val_accuracy: 0.0000e+00\n",
      "Epoch 100/1000\n",
      "9/9 [==============================] - 34s 4s/step - loss: 0.5395 - accuracy: 0.0000e+00 - val_loss: 0.5382 - val_accuracy: 0.0000e+00\n",
      "Epoch 101/1000\n",
      "9/9 [==============================] - 36s 4s/step - loss: 0.5403 - accuracy: 0.0000e+00 - val_loss: 0.5394 - val_accuracy: 0.0000e+00\n",
      "Epoch 102/1000\n",
      "9/9 [==============================] - 43s 5s/step - loss: 0.5403 - accuracy: 0.0000e+00 - val_loss: 0.5394 - val_accuracy: 0.0000e+00\n",
      "Epoch 103/1000\n",
      "9/9 [==============================] - 43s 5s/step - loss: 0.5403 - accuracy: 0.0000e+00 - val_loss: 0.5394 - val_accuracy: 0.0000e+00\n",
      "Epoch 104/1000\n",
      "9/9 [==============================] - 47s 5s/step - loss: 0.5403 - accuracy: 0.0000e+00 - val_loss: 0.5394 - val_accuracy: 0.0000e+00\n",
      "Epoch 105/1000\n",
      "9/9 [==============================] - 43s 5s/step - loss: 0.5403 - accuracy: 0.0000e+00 - val_loss: 0.5394 - val_accuracy: 0.0000e+00\n",
      "Epoch 106/1000\n",
      "9/9 [==============================] - 42s 5s/step - loss: 0.5403 - accuracy: 0.0000e+00 - val_loss: 0.5394 - val_accuracy: 0.0000e+00\n",
      "Epoch 107/1000\n",
      "9/9 [==============================] - 44s 5s/step - loss: 0.5393 - accuracy: 0.0000e+00 - val_loss: 0.5394 - val_accuracy: 0.0000e+00\n",
      "Epoch 108/1000\n",
      "9/9 [==============================] - 47s 5s/step - loss: 0.5403 - accuracy: 0.0000e+00 - val_loss: 0.5394 - val_accuracy: 0.0000e+00\n",
      "Epoch 109/1000\n",
      "9/9 [==============================] - 41s 5s/step - loss: 0.5403 - accuracy: 0.0000e+00 - val_loss: 0.5394 - val_accuracy: 0.0000e+00\n",
      "Epoch 110/1000\n",
      "9/9 [==============================] - 40s 4s/step - loss: 0.5403 - accuracy: 0.0000e+00 - val_loss: 0.5394 - val_accuracy: 0.0000e+00\n",
      "Epoch 111/1000\n",
      "9/9 [==============================] - 38s 4s/step - loss: 0.5403 - accuracy: 0.0000e+00 - val_loss: 0.5394 - val_accuracy: 0.0000e+00\n",
      "Epoch 112/1000\n",
      "9/9 [==============================] - 39s 4s/step - loss: 0.5403 - accuracy: 0.0000e+00 - val_loss: 0.5394 - val_accuracy: 0.0000e+00\n",
      "Epoch 113/1000\n"
     ]
    },
    {
     "name": "stdout",
     "output_type": "stream",
     "text": [
      "8/9 [=========================>....] - ETA: 5s - loss: 0.5401 - accuracy: 0.0000e+00"
     ]
    },
    {
     "ename": "KeyboardInterrupt",
     "evalue": "",
     "output_type": "error",
     "traceback": [
      "\u001b[0;31m---------------------------------------------------------------------------\u001b[0m",
      "\u001b[0;31mKeyboardInterrupt\u001b[0m                         Traceback (most recent call last)",
      "\u001b[0;32m<ipython-input-60-f325ba492eff>\u001b[0m in \u001b[0;36m<module>\u001b[0;34m()\u001b[0m\n\u001b[0;32m----> 1\u001b[0;31m \u001b[0mtrain_history\u001b[0m \u001b[0;34m=\u001b[0m \u001b[0mmodel\u001b[0m\u001b[0;34m.\u001b[0m\u001b[0mfit\u001b[0m\u001b[0;34m(\u001b[0m\u001b[0mdata\u001b[0m\u001b[0;34m,\u001b[0m \u001b[0mtarget\u001b[0m\u001b[0;34m,\u001b[0m \u001b[0mbatch_size\u001b[0m\u001b[0;34m=\u001b[0m\u001b[0mbatch_size\u001b[0m\u001b[0;34m,\u001b[0m \u001b[0mvalidation_split\u001b[0m\u001b[0;34m=\u001b[0m \u001b[0;36m0.2\u001b[0m\u001b[0;34m,\u001b[0m \u001b[0mepochs\u001b[0m\u001b[0;34m=\u001b[0m\u001b[0;36m1000\u001b[0m\u001b[0;34m)\u001b[0m\u001b[0;34m\u001b[0m\u001b[0;34m\u001b[0m\u001b[0m\n\u001b[0m",
      "\u001b[0;32m/home/sanjeev309/.local/lib/python3.7/site-packages/tensorflow/python/keras/engine/training.py\u001b[0m in \u001b[0;36m_method_wrapper\u001b[0;34m(self, *args, **kwargs)\u001b[0m\n\u001b[1;32m     64\u001b[0m   \u001b[0;32mdef\u001b[0m \u001b[0m_method_wrapper\u001b[0m\u001b[0;34m(\u001b[0m\u001b[0mself\u001b[0m\u001b[0;34m,\u001b[0m \u001b[0;34m*\u001b[0m\u001b[0margs\u001b[0m\u001b[0;34m,\u001b[0m \u001b[0;34m**\u001b[0m\u001b[0mkwargs\u001b[0m\u001b[0;34m)\u001b[0m\u001b[0;34m:\u001b[0m\u001b[0;34m\u001b[0m\u001b[0;34m\u001b[0m\u001b[0m\n\u001b[1;32m     65\u001b[0m     \u001b[0;32mif\u001b[0m \u001b[0;32mnot\u001b[0m \u001b[0mself\u001b[0m\u001b[0;34m.\u001b[0m\u001b[0m_in_multi_worker_mode\u001b[0m\u001b[0;34m(\u001b[0m\u001b[0;34m)\u001b[0m\u001b[0;34m:\u001b[0m  \u001b[0;31m# pylint: disable=protected-access\u001b[0m\u001b[0;34m\u001b[0m\u001b[0;34m\u001b[0m\u001b[0m\n\u001b[0;32m---> 66\u001b[0;31m       \u001b[0;32mreturn\u001b[0m \u001b[0mmethod\u001b[0m\u001b[0;34m(\u001b[0m\u001b[0mself\u001b[0m\u001b[0;34m,\u001b[0m \u001b[0;34m*\u001b[0m\u001b[0margs\u001b[0m\u001b[0;34m,\u001b[0m \u001b[0;34m**\u001b[0m\u001b[0mkwargs\u001b[0m\u001b[0;34m)\u001b[0m\u001b[0;34m\u001b[0m\u001b[0;34m\u001b[0m\u001b[0m\n\u001b[0m\u001b[1;32m     67\u001b[0m \u001b[0;34m\u001b[0m\u001b[0m\n\u001b[1;32m     68\u001b[0m     \u001b[0;31m# Running inside `run_distribute_coordinator` already.\u001b[0m\u001b[0;34m\u001b[0m\u001b[0;34m\u001b[0m\u001b[0;34m\u001b[0m\u001b[0m\n",
      "\u001b[0;32m/home/sanjeev309/.local/lib/python3.7/site-packages/tensorflow/python/keras/engine/training.py\u001b[0m in \u001b[0;36mfit\u001b[0;34m(self, x, y, batch_size, epochs, verbose, callbacks, validation_split, validation_data, shuffle, class_weight, sample_weight, initial_epoch, steps_per_epoch, validation_steps, validation_batch_size, validation_freq, max_queue_size, workers, use_multiprocessing)\u001b[0m\n\u001b[1;32m    846\u001b[0m                 batch_size=batch_size):\n\u001b[1;32m    847\u001b[0m               \u001b[0mcallbacks\u001b[0m\u001b[0;34m.\u001b[0m\u001b[0mon_train_batch_begin\u001b[0m\u001b[0;34m(\u001b[0m\u001b[0mstep\u001b[0m\u001b[0;34m)\u001b[0m\u001b[0;34m\u001b[0m\u001b[0;34m\u001b[0m\u001b[0m\n\u001b[0;32m--> 848\u001b[0;31m               \u001b[0mtmp_logs\u001b[0m \u001b[0;34m=\u001b[0m \u001b[0mtrain_function\u001b[0m\u001b[0;34m(\u001b[0m\u001b[0miterator\u001b[0m\u001b[0;34m)\u001b[0m\u001b[0;34m\u001b[0m\u001b[0;34m\u001b[0m\u001b[0m\n\u001b[0m\u001b[1;32m    849\u001b[0m               \u001b[0;31m# Catch OutOfRangeError for Datasets of unknown size.\u001b[0m\u001b[0;34m\u001b[0m\u001b[0;34m\u001b[0m\u001b[0;34m\u001b[0m\u001b[0m\n\u001b[1;32m    850\u001b[0m               \u001b[0;31m# This blocks until the batch has finished executing.\u001b[0m\u001b[0;34m\u001b[0m\u001b[0;34m\u001b[0m\u001b[0;34m\u001b[0m\u001b[0m\n",
      "\u001b[0;32m/home/sanjeev309/.local/lib/python3.7/site-packages/tensorflow/python/eager/def_function.py\u001b[0m in \u001b[0;36m__call__\u001b[0;34m(self, *args, **kwds)\u001b[0m\n\u001b[1;32m    578\u001b[0m         \u001b[0mxla_context\u001b[0m\u001b[0;34m.\u001b[0m\u001b[0mExit\u001b[0m\u001b[0;34m(\u001b[0m\u001b[0;34m)\u001b[0m\u001b[0;34m\u001b[0m\u001b[0;34m\u001b[0m\u001b[0m\n\u001b[1;32m    579\u001b[0m     \u001b[0;32melse\u001b[0m\u001b[0;34m:\u001b[0m\u001b[0;34m\u001b[0m\u001b[0;34m\u001b[0m\u001b[0m\n\u001b[0;32m--> 580\u001b[0;31m       \u001b[0mresult\u001b[0m \u001b[0;34m=\u001b[0m \u001b[0mself\u001b[0m\u001b[0;34m.\u001b[0m\u001b[0m_call\u001b[0m\u001b[0;34m(\u001b[0m\u001b[0;34m*\u001b[0m\u001b[0margs\u001b[0m\u001b[0;34m,\u001b[0m \u001b[0;34m**\u001b[0m\u001b[0mkwds\u001b[0m\u001b[0;34m)\u001b[0m\u001b[0;34m\u001b[0m\u001b[0;34m\u001b[0m\u001b[0m\n\u001b[0m\u001b[1;32m    581\u001b[0m \u001b[0;34m\u001b[0m\u001b[0m\n\u001b[1;32m    582\u001b[0m     \u001b[0;32mif\u001b[0m \u001b[0mtracing_count\u001b[0m \u001b[0;34m==\u001b[0m \u001b[0mself\u001b[0m\u001b[0;34m.\u001b[0m\u001b[0m_get_tracing_count\u001b[0m\u001b[0;34m(\u001b[0m\u001b[0;34m)\u001b[0m\u001b[0;34m:\u001b[0m\u001b[0;34m\u001b[0m\u001b[0;34m\u001b[0m\u001b[0m\n",
      "\u001b[0;32m/home/sanjeev309/.local/lib/python3.7/site-packages/tensorflow/python/eager/def_function.py\u001b[0m in \u001b[0;36m_call\u001b[0;34m(self, *args, **kwds)\u001b[0m\n\u001b[1;32m    609\u001b[0m       \u001b[0;31m# In this case we have created variables on the first call, so we run the\u001b[0m\u001b[0;34m\u001b[0m\u001b[0;34m\u001b[0m\u001b[0;34m\u001b[0m\u001b[0m\n\u001b[1;32m    610\u001b[0m       \u001b[0;31m# defunned version which is guaranteed to never create variables.\u001b[0m\u001b[0;34m\u001b[0m\u001b[0;34m\u001b[0m\u001b[0;34m\u001b[0m\u001b[0m\n\u001b[0;32m--> 611\u001b[0;31m       \u001b[0;32mreturn\u001b[0m \u001b[0mself\u001b[0m\u001b[0;34m.\u001b[0m\u001b[0m_stateless_fn\u001b[0m\u001b[0;34m(\u001b[0m\u001b[0;34m*\u001b[0m\u001b[0margs\u001b[0m\u001b[0;34m,\u001b[0m \u001b[0;34m**\u001b[0m\u001b[0mkwds\u001b[0m\u001b[0;34m)\u001b[0m  \u001b[0;31m# pylint: disable=not-callable\u001b[0m\u001b[0;34m\u001b[0m\u001b[0;34m\u001b[0m\u001b[0m\n\u001b[0m\u001b[1;32m    612\u001b[0m     \u001b[0;32melif\u001b[0m \u001b[0mself\u001b[0m\u001b[0;34m.\u001b[0m\u001b[0m_stateful_fn\u001b[0m \u001b[0;32mis\u001b[0m \u001b[0;32mnot\u001b[0m \u001b[0;32mNone\u001b[0m\u001b[0;34m:\u001b[0m\u001b[0;34m\u001b[0m\u001b[0;34m\u001b[0m\u001b[0m\n\u001b[1;32m    613\u001b[0m       \u001b[0;31m# Release the lock early so that multiple threads can perform the call\u001b[0m\u001b[0;34m\u001b[0m\u001b[0;34m\u001b[0m\u001b[0;34m\u001b[0m\u001b[0m\n",
      "\u001b[0;32m/home/sanjeev309/.local/lib/python3.7/site-packages/tensorflow/python/eager/function.py\u001b[0m in \u001b[0;36m__call__\u001b[0;34m(self, *args, **kwargs)\u001b[0m\n\u001b[1;32m   2418\u001b[0m     \u001b[0;32mwith\u001b[0m \u001b[0mself\u001b[0m\u001b[0;34m.\u001b[0m\u001b[0m_lock\u001b[0m\u001b[0;34m:\u001b[0m\u001b[0;34m\u001b[0m\u001b[0;34m\u001b[0m\u001b[0m\n\u001b[1;32m   2419\u001b[0m       \u001b[0mgraph_function\u001b[0m\u001b[0;34m,\u001b[0m \u001b[0margs\u001b[0m\u001b[0;34m,\u001b[0m \u001b[0mkwargs\u001b[0m \u001b[0;34m=\u001b[0m \u001b[0mself\u001b[0m\u001b[0;34m.\u001b[0m\u001b[0m_maybe_define_function\u001b[0m\u001b[0;34m(\u001b[0m\u001b[0margs\u001b[0m\u001b[0;34m,\u001b[0m \u001b[0mkwargs\u001b[0m\u001b[0;34m)\u001b[0m\u001b[0;34m\u001b[0m\u001b[0;34m\u001b[0m\u001b[0m\n\u001b[0;32m-> 2420\u001b[0;31m     \u001b[0;32mreturn\u001b[0m \u001b[0mgraph_function\u001b[0m\u001b[0;34m.\u001b[0m\u001b[0m_filtered_call\u001b[0m\u001b[0;34m(\u001b[0m\u001b[0margs\u001b[0m\u001b[0;34m,\u001b[0m \u001b[0mkwargs\u001b[0m\u001b[0;34m)\u001b[0m  \u001b[0;31m# pylint: disable=protected-access\u001b[0m\u001b[0;34m\u001b[0m\u001b[0;34m\u001b[0m\u001b[0m\n\u001b[0m\u001b[1;32m   2421\u001b[0m \u001b[0;34m\u001b[0m\u001b[0m\n\u001b[1;32m   2422\u001b[0m   \u001b[0;34m@\u001b[0m\u001b[0mproperty\u001b[0m\u001b[0;34m\u001b[0m\u001b[0;34m\u001b[0m\u001b[0m\n",
      "\u001b[0;32m/home/sanjeev309/.local/lib/python3.7/site-packages/tensorflow/python/eager/function.py\u001b[0m in \u001b[0;36m_filtered_call\u001b[0;34m(self, args, kwargs)\u001b[0m\n\u001b[1;32m   1663\u001b[0m          if isinstance(t, (ops.Tensor,\n\u001b[1;32m   1664\u001b[0m                            resource_variable_ops.BaseResourceVariable))),\n\u001b[0;32m-> 1665\u001b[0;31m         self.captured_inputs)\n\u001b[0m\u001b[1;32m   1666\u001b[0m \u001b[0;34m\u001b[0m\u001b[0m\n\u001b[1;32m   1667\u001b[0m   \u001b[0;32mdef\u001b[0m \u001b[0m_call_flat\u001b[0m\u001b[0;34m(\u001b[0m\u001b[0mself\u001b[0m\u001b[0;34m,\u001b[0m \u001b[0margs\u001b[0m\u001b[0;34m,\u001b[0m \u001b[0mcaptured_inputs\u001b[0m\u001b[0;34m,\u001b[0m \u001b[0mcancellation_manager\u001b[0m\u001b[0;34m=\u001b[0m\u001b[0;32mNone\u001b[0m\u001b[0;34m)\u001b[0m\u001b[0;34m:\u001b[0m\u001b[0;34m\u001b[0m\u001b[0;34m\u001b[0m\u001b[0m\n",
      "\u001b[0;32m/home/sanjeev309/.local/lib/python3.7/site-packages/tensorflow/python/eager/function.py\u001b[0m in \u001b[0;36m_call_flat\u001b[0;34m(self, args, captured_inputs, cancellation_manager)\u001b[0m\n\u001b[1;32m   1744\u001b[0m       \u001b[0;31m# No tape is watching; skip to running the function.\u001b[0m\u001b[0;34m\u001b[0m\u001b[0;34m\u001b[0m\u001b[0;34m\u001b[0m\u001b[0m\n\u001b[1;32m   1745\u001b[0m       return self._build_call_outputs(self._inference_function.call(\n\u001b[0;32m-> 1746\u001b[0;31m           ctx, args, cancellation_manager=cancellation_manager))\n\u001b[0m\u001b[1;32m   1747\u001b[0m     forward_backward = self._select_forward_and_backward_functions(\n\u001b[1;32m   1748\u001b[0m         \u001b[0margs\u001b[0m\u001b[0;34m,\u001b[0m\u001b[0;34m\u001b[0m\u001b[0;34m\u001b[0m\u001b[0m\n",
      "\u001b[0;32m/home/sanjeev309/.local/lib/python3.7/site-packages/tensorflow/python/eager/function.py\u001b[0m in \u001b[0;36mcall\u001b[0;34m(self, ctx, args, cancellation_manager)\u001b[0m\n\u001b[1;32m    596\u001b[0m               \u001b[0minputs\u001b[0m\u001b[0;34m=\u001b[0m\u001b[0margs\u001b[0m\u001b[0;34m,\u001b[0m\u001b[0;34m\u001b[0m\u001b[0;34m\u001b[0m\u001b[0m\n\u001b[1;32m    597\u001b[0m               \u001b[0mattrs\u001b[0m\u001b[0;34m=\u001b[0m\u001b[0mattrs\u001b[0m\u001b[0;34m,\u001b[0m\u001b[0;34m\u001b[0m\u001b[0;34m\u001b[0m\u001b[0m\n\u001b[0;32m--> 598\u001b[0;31m               ctx=ctx)\n\u001b[0m\u001b[1;32m    599\u001b[0m         \u001b[0;32melse\u001b[0m\u001b[0;34m:\u001b[0m\u001b[0;34m\u001b[0m\u001b[0;34m\u001b[0m\u001b[0m\n\u001b[1;32m    600\u001b[0m           outputs = execute.execute_with_cancellation(\n",
      "\u001b[0;32m/home/sanjeev309/.local/lib/python3.7/site-packages/tensorflow/python/eager/execute.py\u001b[0m in \u001b[0;36mquick_execute\u001b[0;34m(op_name, num_outputs, inputs, attrs, ctx, name)\u001b[0m\n\u001b[1;32m     58\u001b[0m     \u001b[0mctx\u001b[0m\u001b[0;34m.\u001b[0m\u001b[0mensure_initialized\u001b[0m\u001b[0;34m(\u001b[0m\u001b[0;34m)\u001b[0m\u001b[0;34m\u001b[0m\u001b[0;34m\u001b[0m\u001b[0m\n\u001b[1;32m     59\u001b[0m     tensors = pywrap_tfe.TFE_Py_Execute(ctx._handle, device_name, op_name,\n\u001b[0;32m---> 60\u001b[0;31m                                         inputs, attrs, num_outputs)\n\u001b[0m\u001b[1;32m     61\u001b[0m   \u001b[0;32mexcept\u001b[0m \u001b[0mcore\u001b[0m\u001b[0;34m.\u001b[0m\u001b[0m_NotOkStatusException\u001b[0m \u001b[0;32mas\u001b[0m \u001b[0me\u001b[0m\u001b[0;34m:\u001b[0m\u001b[0;34m\u001b[0m\u001b[0;34m\u001b[0m\u001b[0m\n\u001b[1;32m     62\u001b[0m     \u001b[0;32mif\u001b[0m \u001b[0mname\u001b[0m \u001b[0;32mis\u001b[0m \u001b[0;32mnot\u001b[0m \u001b[0;32mNone\u001b[0m\u001b[0;34m:\u001b[0m\u001b[0;34m\u001b[0m\u001b[0;34m\u001b[0m\u001b[0m\n",
      "\u001b[0;31mKeyboardInterrupt\u001b[0m: "
     ]
    }
   ],
   "source": [
    "train_history = model.fit(data, target, batch_size=batch_size, validation_split= 0.2, epochs=1000)"
   ]
  },
  {
   "cell_type": "code",
   "execution_count": null,
   "metadata": {},
   "outputs": [],
   "source": []
  }
 ],
 "metadata": {
  "kernelspec": {
   "display_name": "Python 3",
   "language": "python",
   "name": "python3"
  },
  "language_info": {
   "codemirror_mode": {
    "name": "ipython",
    "version": 3
   },
   "file_extension": ".py",
   "mimetype": "text/x-python",
   "name": "python",
   "nbconvert_exporter": "python",
   "pygments_lexer": "ipython3",
   "version": "3.7.5"
  }
 },
 "nbformat": 4,
 "nbformat_minor": 2
}
